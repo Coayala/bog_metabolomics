{
 "cells": [
  {
   "cell_type": "markdown",
   "metadata": {},
   "source": [
    "## 1. Import libraries"
   ]
  },
  {
   "cell_type": "code",
   "execution_count": 35,
   "metadata": {},
   "outputs": [],
   "source": [
    "import pandas as pd\n",
    "import numpy as np\n",
    "import glob\n",
    "import os"
   ]
  },
  {
   "cell_type": "markdown",
   "metadata": {},
   "source": [
    "## 2. Create project subdirectories"
   ]
  },
  {
   "cell_type": "code",
   "execution_count": 38,
   "metadata": {},
   "outputs": [
    {
     "data": {
      "text/plain": [
       "'C:\\\\Users\\\\Chris\\\\Desktop\\\\UofA\\\\bog_metabolomics\\\\0_metadata'"
      ]
     },
     "execution_count": 38,
     "metadata": {},
     "output_type": "execute_result"
    }
   ],
   "source": [
    "project_dir = os.getcwd()\n",
    "tables_output = '../tables'\n",
    "images_output = '../images'\n",
    "\n",
    "if not os.path.exists(tables_output):\n",
    "    os.makedirs(tables_output)\n",
    "\n",
    "if not os.path.exists(images_output):\n",
    "    os.makedirs(images_output)\n",
    "\n",
    "project_dir"
   ]
  },
  {
   "cell_type": "markdown",
   "metadata": {},
   "source": [
    "## 3. Glob list of `.mzXML` files, make dataframe"
   ]
  },
  {
   "cell_type": "code",
   "execution_count": 40,
   "metadata": {
    "scrolled": true
   },
   "outputs": [
    {
     "name": "stdout",
     "output_type": "stream",
     "text": [
      "n files =  8\n"
     ]
    },
    {
     "data": {
      "text/html": [
       "<div>\n",
       "<style scoped>\n",
       "    .dataframe tbody tr th:only-of-type {\n",
       "        vertical-align: middle;\n",
       "    }\n",
       "\n",
       "    .dataframe tbody tr th {\n",
       "        vertical-align: top;\n",
       "    }\n",
       "\n",
       "    .dataframe thead th {\n",
       "        text-align: right;\n",
       "    }\n",
       "</style>\n",
       "<table border=\"1\" class=\"dataframe\">\n",
       "  <thead>\n",
       "    <tr style=\"text-align: right;\">\n",
       "      <th></th>\n",
       "      <th>FileName</th>\n",
       "      <th>SampleCode</th>\n",
       "      <th>Time</th>\n",
       "      <th>Sample_type</th>\n",
       "    </tr>\n",
       "  </thead>\n",
       "  <tbody>\n",
       "    <tr>\n",
       "      <th>0</th>\n",
       "      <td>Saleska_BNC_23Jan18_Gimli-FA_ZORBAX-1142_Neg.m...</td>\n",
       "      <td>BNC</td>\n",
       "      <td>T0</td>\n",
       "      <td>Litter</td>\n",
       "    </tr>\n",
       "    <tr>\n",
       "      <th>1</th>\n",
       "      <td>Saleska_Bog_T0_23Jan18_Gimli-FA_ZORBAX-1142_Ne...</td>\n",
       "      <td>Bog_T0</td>\n",
       "      <td>T0</td>\n",
       "      <td>peat</td>\n",
       "    </tr>\n",
       "    <tr>\n",
       "      <th>2</th>\n",
       "      <td>Saleska_III_Bog_N1_23Jan18_Gimli-FA_ZORBAX-114...</td>\n",
       "      <td>III_Bog_N1</td>\n",
       "      <td>T3</td>\n",
       "      <td>peat_litter</td>\n",
       "    </tr>\n",
       "    <tr>\n",
       "      <th>3</th>\n",
       "      <td>Saleska_III_Bog_N2_23Jan18_Gimli-FA_ZORBAX-114...</td>\n",
       "      <td>III_Bog_N2</td>\n",
       "      <td>T3</td>\n",
       "      <td>peat_litter</td>\n",
       "    </tr>\n",
       "    <tr>\n",
       "      <th>4</th>\n",
       "      <td>Saleska_II_Bog_N1_23Jan18_Gimli-FA_ZORBAX-1142...</td>\n",
       "      <td>II_Bog_N1</td>\n",
       "      <td>T2</td>\n",
       "      <td>peat_litter</td>\n",
       "    </tr>\n",
       "    <tr>\n",
       "      <th>5</th>\n",
       "      <td>Saleska_II_Bog_N2_23Jan18_Gimli-FA_ZORBAX-1142...</td>\n",
       "      <td>II_Bog_N2</td>\n",
       "      <td>T2</td>\n",
       "      <td>peat_litter</td>\n",
       "    </tr>\n",
       "    <tr>\n",
       "      <th>6</th>\n",
       "      <td>Saleska_I_Bog_N1_23Jan18_Gimli-FA_ZORBAX-1142_...</td>\n",
       "      <td>I_Bog_N1</td>\n",
       "      <td>T1</td>\n",
       "      <td>peat_litter</td>\n",
       "    </tr>\n",
       "    <tr>\n",
       "      <th>7</th>\n",
       "      <td>Saleska_I_Bog_N2_23Jan18_Gimli-FA_ZORBAX-1142_...</td>\n",
       "      <td>I_Bog_N2</td>\n",
       "      <td>T1</td>\n",
       "      <td>peat_litter</td>\n",
       "    </tr>\n",
       "  </tbody>\n",
       "</table>\n",
       "</div>"
      ],
      "text/plain": [
       "                                            FileName  SampleCode Time  \\\n",
       "0  Saleska_BNC_23Jan18_Gimli-FA_ZORBAX-1142_Neg.m...         BNC   T0   \n",
       "1  Saleska_Bog_T0_23Jan18_Gimli-FA_ZORBAX-1142_Ne...      Bog_T0   T0   \n",
       "2  Saleska_III_Bog_N1_23Jan18_Gimli-FA_ZORBAX-114...  III_Bog_N1   T3   \n",
       "3  Saleska_III_Bog_N2_23Jan18_Gimli-FA_ZORBAX-114...  III_Bog_N2   T3   \n",
       "4  Saleska_II_Bog_N1_23Jan18_Gimli-FA_ZORBAX-1142...   II_Bog_N1   T2   \n",
       "5  Saleska_II_Bog_N2_23Jan18_Gimli-FA_ZORBAX-1142...   II_Bog_N2   T2   \n",
       "6  Saleska_I_Bog_N1_23Jan18_Gimli-FA_ZORBAX-1142_...    I_Bog_N1   T1   \n",
       "7  Saleska_I_Bog_N2_23Jan18_Gimli-FA_ZORBAX-1142_...    I_Bog_N2   T1   \n",
       "\n",
       "   Sample_type  \n",
       "0       Litter  \n",
       "1         peat  \n",
       "2  peat_litter  \n",
       "3  peat_litter  \n",
       "4  peat_litter  \n",
       "5  peat_litter  \n",
       "6  peat_litter  \n",
       "7  peat_litter  "
      ]
     },
     "execution_count": 40,
     "metadata": {},
     "output_type": "execute_result"
    }
   ],
   "source": [
    "list_files = glob.glob('../data/*.mzXML')\n",
    "list_files = [(x.split('\\\\')[-1], x.split('\\\\')[-1][:-6]) for x in list_files]\n",
    "print('n files = ', len(list_files))\n",
    "\n",
    "phenodata = pd.DataFrame(list_files, columns =['FileName', 'SampleCode']) \n",
    "phenodata['SampleCode'] = phenodata['SampleCode'].str.replace('Saleska_', '').str.replace('_23.*', '', regex = True)\n",
    "phenodata['Time'] = phenodata['SampleCode'].apply(lambda x: 'T0' if x.find('I_') == -1 else \n",
    "                                                  ('T1' if x.find('II_') == -1 else\n",
    "                                                  ('T2' if x.find('III_') == -1 else 'T3')))\n",
    "phenodata['Sample_type'] = phenodata['SampleCode'].apply(lambda x: 'Litter' if x.find('NC') != -1 else \n",
    "                                                  ('peat' if x.find('T0') != -1 else 'peat_litter'))\n",
    "\n",
    "filename = os.path.join(tables_output, 'metadata_bog.csv')\n",
    "phenodata.to_csv(filename, index=False)\n",
    "phenodata"
   ]
  }
 ],
 "metadata": {
  "kernelspec": {
   "display_name": "Python 3",
   "language": "python",
   "name": "python3"
  },
  "language_info": {
   "codemirror_mode": {
    "name": "ipython",
    "version": 3
   },
   "file_extension": ".py",
   "mimetype": "text/x-python",
   "name": "python",
   "nbconvert_exporter": "python",
   "pygments_lexer": "ipython3",
   "version": "3.8.5"
  },
  "toc": {
   "base_numbering": 1,
   "nav_menu": {},
   "number_sections": true,
   "sideBar": true,
   "skip_h1_title": false,
   "title_cell": "Table of Contents",
   "title_sidebar": "Contents",
   "toc_cell": false,
   "toc_position": {},
   "toc_section_display": true,
   "toc_window_display": false
  },
  "varInspector": {
   "cols": {
    "lenName": 16,
    "lenType": 16,
    "lenVar": 40
   },
   "kernels_config": {
    "python": {
     "delete_cmd_postfix": "",
     "delete_cmd_prefix": "del ",
     "library": "var_list.py",
     "varRefreshCmd": "print(var_dic_list())"
    },
    "r": {
     "delete_cmd_postfix": ") ",
     "delete_cmd_prefix": "rm(",
     "library": "var_list.r",
     "varRefreshCmd": "cat(var_dic_list()) "
    }
   },
   "types_to_exclude": [
    "module",
    "function",
    "builtin_function_or_method",
    "instance",
    "_Feature"
   ],
   "window_display": false
  }
 },
 "nbformat": 4,
 "nbformat_minor": 2
}
