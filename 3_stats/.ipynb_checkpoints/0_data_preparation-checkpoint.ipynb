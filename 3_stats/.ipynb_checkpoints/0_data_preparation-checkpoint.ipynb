{
 "cells": [
  {
   "cell_type": "markdown",
   "metadata": {},
   "source": [
    "# Import libraries"
   ]
  },
  {
   "cell_type": "code",
   "execution_count": 2,
   "metadata": {},
   "outputs": [],
   "source": [
    "import pandas as pd\n",
    "import numpy as np\n",
    "import os"
   ]
  },
  {
   "cell_type": "markdown",
   "metadata": {},
   "source": [
    "# Feature Correspondence"
   ]
  },
  {
   "cell_type": "code",
   "execution_count": 9,
   "metadata": {
    "scrolled": false
   },
   "outputs": [
    {
     "name": "stdout",
     "output_type": "stream",
     "text": [
      "(532, 8)\n"
     ]
    },
    {
     "data": {
      "text/html": [
       "<div>\n",
       "<style scoped>\n",
       "    .dataframe tbody tr th:only-of-type {\n",
       "        vertical-align: middle;\n",
       "    }\n",
       "\n",
       "    .dataframe tbody tr th {\n",
       "        vertical-align: top;\n",
       "    }\n",
       "\n",
       "    .dataframe thead th {\n",
       "        text-align: right;\n",
       "    }\n",
       "</style>\n",
       "<table border=\"1\" class=\"dataframe\">\n",
       "  <thead>\n",
       "    <tr style=\"text-align: right;\">\n",
       "      <th></th>\n",
       "      <th>BNC</th>\n",
       "      <th>Bog_T0</th>\n",
       "      <th>III_Bog_N1</th>\n",
       "      <th>III_Bog_N2</th>\n",
       "      <th>II_Bog_N1</th>\n",
       "      <th>II_Bog_N2</th>\n",
       "      <th>I_Bog_N1</th>\n",
       "      <th>I_Bog_N2</th>\n",
       "    </tr>\n",
       "    <tr>\n",
       "      <th>Features</th>\n",
       "      <th></th>\n",
       "      <th></th>\n",
       "      <th></th>\n",
       "      <th></th>\n",
       "      <th></th>\n",
       "      <th></th>\n",
       "      <th></th>\n",
       "      <th></th>\n",
       "    </tr>\n",
       "  </thead>\n",
       "  <tbody>\n",
       "    <tr>\n",
       "      <th>FT001</th>\n",
       "      <td>4.281247e+06</td>\n",
       "      <td>1.447325e+06</td>\n",
       "      <td>1.964509e+06</td>\n",
       "      <td>1.755049e+06</td>\n",
       "      <td>1.470808e+06</td>\n",
       "      <td>1.568535e+06</td>\n",
       "      <td>1.699758e+06</td>\n",
       "      <td>1.584472e+06</td>\n",
       "    </tr>\n",
       "    <tr>\n",
       "      <th>FT002</th>\n",
       "      <td>1.802815e+06</td>\n",
       "      <td>0.000000e+00</td>\n",
       "      <td>0.000000e+00</td>\n",
       "      <td>0.000000e+00</td>\n",
       "      <td>0.000000e+00</td>\n",
       "      <td>0.000000e+00</td>\n",
       "      <td>0.000000e+00</td>\n",
       "      <td>0.000000e+00</td>\n",
       "    </tr>\n",
       "    <tr>\n",
       "      <th>FT003</th>\n",
       "      <td>1.245198e+06</td>\n",
       "      <td>4.096185e+04</td>\n",
       "      <td>1.152065e+05</td>\n",
       "      <td>7.553663e+04</td>\n",
       "      <td>4.407506e+04</td>\n",
       "      <td>6.536492e+04</td>\n",
       "      <td>3.881721e+04</td>\n",
       "      <td>8.149627e+04</td>\n",
       "    </tr>\n",
       "    <tr>\n",
       "      <th>FT004</th>\n",
       "      <td>5.079143e+06</td>\n",
       "      <td>5.244796e+05</td>\n",
       "      <td>1.647061e+06</td>\n",
       "      <td>9.352173e+05</td>\n",
       "      <td>1.169840e+06</td>\n",
       "      <td>1.296817e+06</td>\n",
       "      <td>1.170791e+06</td>\n",
       "      <td>1.407095e+06</td>\n",
       "    </tr>\n",
       "    <tr>\n",
       "      <th>FT005</th>\n",
       "      <td>1.100489e+07</td>\n",
       "      <td>3.833114e+03</td>\n",
       "      <td>2.443153e+03</td>\n",
       "      <td>4.821497e+03</td>\n",
       "      <td>6.159005e+03</td>\n",
       "      <td>5.007683e+03</td>\n",
       "      <td>2.887445e+03</td>\n",
       "      <td>0.000000e+00</td>\n",
       "    </tr>\n",
       "  </tbody>\n",
       "</table>\n",
       "</div>"
      ],
      "text/plain": [
       "                   BNC        Bog_T0    III_Bog_N1    III_Bog_N2  \\\n",
       "Features                                                           \n",
       "FT001     4.281247e+06  1.447325e+06  1.964509e+06  1.755049e+06   \n",
       "FT002     1.802815e+06  0.000000e+00  0.000000e+00  0.000000e+00   \n",
       "FT003     1.245198e+06  4.096185e+04  1.152065e+05  7.553663e+04   \n",
       "FT004     5.079143e+06  5.244796e+05  1.647061e+06  9.352173e+05   \n",
       "FT005     1.100489e+07  3.833114e+03  2.443153e+03  4.821497e+03   \n",
       "\n",
       "             II_Bog_N1     II_Bog_N2      I_Bog_N1      I_Bog_N2  \n",
       "Features                                                          \n",
       "FT001     1.470808e+06  1.568535e+06  1.699758e+06  1.584472e+06  \n",
       "FT002     0.000000e+00  0.000000e+00  0.000000e+00  0.000000e+00  \n",
       "FT003     4.407506e+04  6.536492e+04  3.881721e+04  8.149627e+04  \n",
       "FT004     1.169840e+06  1.296817e+06  1.170791e+06  1.407095e+06  \n",
       "FT005     6.159005e+03  5.007683e+03  2.887445e+03  0.000000e+00  "
      ]
     },
     "execution_count": 9,
     "metadata": {},
     "output_type": "execute_result"
    }
   ],
   "source": [
    "fcorr = pd.read_csv('../tables/featureCorrespondence_e5.csv')\n",
    "\n",
    "fcorr.rename(columns={\"Unnamed: 0\":'Features'}, inplace=True)\n",
    "\n",
    "features = fcorr[['Features']]\n",
    "\n",
    "fcorr['Features'] = features\n",
    "\n",
    "fcorr.set_index('Features', inplace=True)\n",
    "\n",
    "print(fcorr.shape)\n",
    "\n",
    "fcorr.head()"
   ]
  },
  {
   "cell_type": "markdown",
   "metadata": {},
   "source": [
    "# Only MS2\n",
    "\n",
    "`featureCorrespondence.csv` all the features (== MS1), but all of them had an MS2.\n",
    "\n",
    "Normally, I'll do this step after the MS2 annotation, but for this tutorial, we'll only work with the features that have MS2."
   ]
  },
  {
   "cell_type": "code",
   "execution_count": 10,
   "metadata": {
    "scrolled": false
   },
   "outputs": [
    {
     "name": "stdout",
     "output_type": "stream",
     "text": [
      "280\n"
     ]
    },
    {
     "data": {
      "text/plain": [
       "['FT001', 'FT004', 'FT008', 'FT011', 'FT013']"
      ]
     },
     "execution_count": 10,
     "metadata": {},
     "output_type": "execute_result"
    }
   ],
   "source": [
    "list_ms2 = open('../data/ms2spectra_consensus_e5.mgf', 'r').read().split('\\n')\n",
    "list_ms2 = [x.split('=')[-1] for x in list_ms2 if x.startswith('TITLE')]\n",
    "print(len(list_ms2))\n",
    "list_ms2[:5]"
   ]
  },
  {
   "cell_type": "markdown",
   "metadata": {},
   "source": [
    "## Filter "
   ]
  },
  {
   "cell_type": "code",
   "execution_count": 11,
   "metadata": {},
   "outputs": [
    {
     "name": "stdout",
     "output_type": "stream",
     "text": [
      "(280, 8)\n",
      "(70, 8)\n"
     ]
    },
    {
     "data": {
      "text/html": [
       "<div>\n",
       "<style scoped>\n",
       "    .dataframe tbody tr th:only-of-type {\n",
       "        vertical-align: middle;\n",
       "    }\n",
       "\n",
       "    .dataframe tbody tr th {\n",
       "        vertical-align: top;\n",
       "    }\n",
       "\n",
       "    .dataframe thead th {\n",
       "        text-align: right;\n",
       "    }\n",
       "</style>\n",
       "<table border=\"1\" class=\"dataframe\">\n",
       "  <thead>\n",
       "    <tr style=\"text-align: right;\">\n",
       "      <th></th>\n",
       "      <th>BNC</th>\n",
       "      <th>Bog_T0</th>\n",
       "      <th>III_Bog_N1</th>\n",
       "      <th>III_Bog_N2</th>\n",
       "      <th>II_Bog_N1</th>\n",
       "      <th>II_Bog_N2</th>\n",
       "      <th>I_Bog_N1</th>\n",
       "      <th>I_Bog_N2</th>\n",
       "    </tr>\n",
       "    <tr>\n",
       "      <th>Features</th>\n",
       "      <th></th>\n",
       "      <th></th>\n",
       "      <th></th>\n",
       "      <th></th>\n",
       "      <th></th>\n",
       "      <th></th>\n",
       "      <th></th>\n",
       "      <th></th>\n",
       "    </tr>\n",
       "  </thead>\n",
       "  <tbody>\n",
       "    <tr>\n",
       "      <th>FT050</th>\n",
       "      <td>7.452494</td>\n",
       "      <td>3.845745</td>\n",
       "      <td>6.349502</td>\n",
       "      <td>6.370515</td>\n",
       "      <td>6.757783</td>\n",
       "      <td>6.706847</td>\n",
       "      <td>6.846109</td>\n",
       "      <td>6.831937</td>\n",
       "    </tr>\n",
       "    <tr>\n",
       "      <th>FT056</th>\n",
       "      <td>6.756613</td>\n",
       "      <td>0.000000</td>\n",
       "      <td>6.157832</td>\n",
       "      <td>6.109161</td>\n",
       "      <td>6.102997</td>\n",
       "      <td>6.100061</td>\n",
       "      <td>6.004018</td>\n",
       "      <td>6.074969</td>\n",
       "    </tr>\n",
       "    <tr>\n",
       "      <th>FT068</th>\n",
       "      <td>6.639078</td>\n",
       "      <td>0.000000</td>\n",
       "      <td>3.450157</td>\n",
       "      <td>3.464679</td>\n",
       "      <td>0.000000</td>\n",
       "      <td>3.265679</td>\n",
       "      <td>4.268448</td>\n",
       "      <td>4.785439</td>\n",
       "    </tr>\n",
       "    <tr>\n",
       "      <th>FT099</th>\n",
       "      <td>7.580938</td>\n",
       "      <td>3.621763</td>\n",
       "      <td>6.341433</td>\n",
       "      <td>6.449305</td>\n",
       "      <td>6.540656</td>\n",
       "      <td>6.688573</td>\n",
       "      <td>6.657739</td>\n",
       "      <td>6.735765</td>\n",
       "    </tr>\n",
       "    <tr>\n",
       "      <th>FT106</th>\n",
       "      <td>7.526662</td>\n",
       "      <td>0.000000</td>\n",
       "      <td>0.000000</td>\n",
       "      <td>3.654829</td>\n",
       "      <td>0.000000</td>\n",
       "      <td>6.841935</td>\n",
       "      <td>0.000000</td>\n",
       "      <td>0.000000</td>\n",
       "    </tr>\n",
       "  </tbody>\n",
       "</table>\n",
       "</div>"
      ],
      "text/plain": [
       "               BNC    Bog_T0  III_Bog_N1  III_Bog_N2  II_Bog_N1  II_Bog_N2  \\\n",
       "Features                                                                     \n",
       "FT050     7.452494  3.845745    6.349502    6.370515   6.757783   6.706847   \n",
       "FT056     6.756613  0.000000    6.157832    6.109161   6.102997   6.100061   \n",
       "FT068     6.639078  0.000000    3.450157    3.464679   0.000000   3.265679   \n",
       "FT099     7.580938  3.621763    6.341433    6.449305   6.540656   6.688573   \n",
       "FT106     7.526662  0.000000    0.000000    3.654829   0.000000   6.841935   \n",
       "\n",
       "          I_Bog_N1  I_Bog_N2  \n",
       "Features                      \n",
       "FT050     6.846109  6.831937  \n",
       "FT056     6.004018  6.074969  \n",
       "FT068     4.268448  4.785439  \n",
       "FT099     6.657739  6.735765  \n",
       "FT106     0.000000  0.000000  "
      ]
     },
     "execution_count": 11,
     "metadata": {},
     "output_type": "execute_result"
    }
   ],
   "source": [
    "fcorr_ms2 = fcorr.copy()\n",
    "\n",
    "fcorr_ms2 = fcorr_ms2.reset_index()\n",
    "\n",
    "fcorr_ms2 = fcorr_ms2[fcorr_ms2['Features'].isin(list_ms2)]\n",
    "\n",
    "fcorr_ms2 = fcorr_ms2.set_index('Features')\n",
    "\n",
    "fcorr_ms2 = fcorr_ms2.replace(np.nan, 0)\n",
    "\n",
    "## log transform\n",
    "fcorr_ms2 = np.log10(fcorr_ms2+1)\n",
    "\n",
    "print(fcorr_ms2.shape)\n",
    "\n",
    "## filter rows that have variance == 0; will cause issues in the PCA\n",
    "fcorr_ms2 = fcorr_ms2[fcorr_ms2.var(axis=1).astype(int) > 0.0]\n",
    "\n",
    "print(fcorr_ms2.shape)\n",
    "\n",
    "fcorr_ms2.to_csv('../tables/featureCorrespondence_MS2_e5.csv')\n",
    "\n",
    "fcorr_ms2.head()"
   ]
  },
  {
   "cell_type": "code",
   "execution_count": 7,
   "metadata": {},
   "outputs": [
    {
     "data": {
      "text/plain": [
       "BNC           7.695127\n",
       "Bog_T0        3.838134\n",
       "III_Bog_N1    6.275136\n",
       "III_Bog_N2    6.370515\n",
       "II_Bog_N1     6.761377\n",
       "II_Bog_N2     6.706847\n",
       "I_Bog_N1      6.846109\n",
       "I_Bog_N2      6.831937\n",
       "Name: FT0473, dtype: float64"
      ]
     },
     "execution_count": 7,
     "metadata": {},
     "output_type": "execute_result"
    }
   ],
   "source": [
    "fcorr_ms2.loc['FT0473', :]"
   ]
  },
  {
   "cell_type": "code",
   "execution_count": null,
   "metadata": {},
   "outputs": [],
   "source": []
  }
 ],
 "metadata": {
  "kernelspec": {
   "display_name": "Python 3",
   "language": "python",
   "name": "python3"
  },
  "language_info": {
   "codemirror_mode": {
    "name": "ipython",
    "version": 3
   },
   "file_extension": ".py",
   "mimetype": "text/x-python",
   "name": "python",
   "nbconvert_exporter": "python",
   "pygments_lexer": "ipython3",
   "version": "3.8.5"
  },
  "toc": {
   "base_numbering": 1,
   "nav_menu": {},
   "number_sections": false,
   "sideBar": true,
   "skip_h1_title": false,
   "title_cell": "Table of Contents",
   "title_sidebar": "Contents",
   "toc_cell": false,
   "toc_position": {},
   "toc_section_display": true,
   "toc_window_display": false
  },
  "varInspector": {
   "cols": {
    "lenName": 16,
    "lenType": 16,
    "lenVar": 40
   },
   "kernels_config": {
    "python": {
     "delete_cmd_postfix": "",
     "delete_cmd_prefix": "del ",
     "library": "var_list.py",
     "varRefreshCmd": "print(var_dic_list())"
    },
    "r": {
     "delete_cmd_postfix": ") ",
     "delete_cmd_prefix": "rm(",
     "library": "var_list.r",
     "varRefreshCmd": "cat(var_dic_list()) "
    }
   },
   "types_to_exclude": [
    "module",
    "function",
    "builtin_function_or_method",
    "instance",
    "_Feature"
   ],
   "window_display": false
  }
 },
 "nbformat": 4,
 "nbformat_minor": 2
}
